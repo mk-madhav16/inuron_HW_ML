{
 "cells": [
  {
   "cell_type": "code",
   "execution_count": null,
   "id": "96d607ef",
   "metadata": {},
   "outputs": [],
   "source": [
    "#1. What is feature engineering, and how does it work? Explain the various aspects of feature engineering in depth."
   ]
  },
  {
   "cell_type": "code",
   "execution_count": null,
   "id": "113ab85e",
   "metadata": {},
   "outputs": [],
   "source": [
    "#Ans_1\n",
    "Feature engineering is the process of selecting, manipulating, and transforming raw data into features that can be used in supervised learning.\n",
    "It consists of creation, transformation, extraction, and selection of features, also known as variables, that are most conducive to creating an accurate ML algorithm."
   ]
  },
  {
   "cell_type": "code",
   "execution_count": null,
   "id": "cf79152d",
   "metadata": {},
   "outputs": [],
   "source": [
    "#2. What is feature selection, and how does it work? What is the aim of it? What are the various methods of function selection?"
   ]
  },
  {
   "cell_type": "code",
   "execution_count": null,
   "id": "688603d7",
   "metadata": {},
   "outputs": [],
   "source": [
    "#Ans_2\n",
    "Feature Selection is the process where you automatically or manually select those features which contribute most to your prediction variable or output in which you are interested in.\n",
    "There are three types of feature selection:\n",
    "    Wrapper methods \n",
    "    Filter methods \n",
    "    Embedded methods"
   ]
  },
  {
   "cell_type": "code",
   "execution_count": null,
   "id": "2965678b",
   "metadata": {},
   "outputs": [],
   "source": [
    "#3. Describe the function selection filter and wrapper approaches. State the pros and cons of each approach?"
   ]
  },
  {
   "cell_type": "code",
   "execution_count": null,
   "id": "ee42119d",
   "metadata": {},
   "outputs": [],
   "source": [
    "#Ans_3\n",
    "Filter methods measure the relevance of features by their correlation with dependent variable.The filter method has the fastest running time\n",
    "\n",
    "Wrapper methods measure the usefulness of a subset of feature by actually training a model on it.The wrapper method has the advantages of better generalization"
   ]
  },
  {
   "cell_type": "code",
   "execution_count": null,
   "id": "b9d6ae32",
   "metadata": {},
   "outputs": [],
   "source": [
    "#4. Please Answer the following Questions :\n",
    "    Describe the overall feature selection process.\n",
    "    Explain the key underlying principle of feature extraction using an example. What are the most widely used function extraction algorithms?"
   ]
  },
  {
   "cell_type": "code",
   "execution_count": null,
   "id": "b6f40bbe",
   "metadata": {},
   "outputs": [],
   "source": [
    "#Ans_4\n",
    "Feature selection is the process of reducing the number of input variables when developing a predictive model. \n",
    "It is desirable to reduce the number of input variables to both reduce the computational cost of modeling"
   ]
  },
  {
   "cell_type": "code",
   "execution_count": null,
   "id": "6c98c78b",
   "metadata": {},
   "outputs": [],
   "source": [
    "#5. Describe the feature engineering process in the sense of a text categorization issue.\\"
   ]
  },
  {
   "cell_type": "code",
   "execution_count": null,
   "id": "78811d56",
   "metadata": {},
   "outputs": [],
   "source": [
    "#Ans_5\n",
    "Text classification is the problem of assigning categories to text data according to its content. \n",
    "The most important part of text classification is feature engineering: the process of creating features for a machine learning model from raw text data."
   ]
  },
  {
   "cell_type": "code",
   "execution_count": null,
   "id": "b6b45788",
   "metadata": {},
   "outputs": [],
   "source": [
    "#6. What makes cosine similarity a good metric for text categorization? A document-term matrix has two rows with values of (2, 3, 2, 0, 2, 3, 3, 0, 1) and (2, 1, 0, 0, 3, 2, 1, 3, 1). Find the resemblance in cosine."
   ]
  },
  {
   "cell_type": "code",
   "execution_count": null,
   "id": "4eab50ec",
   "metadata": {},
   "outputs": [],
   "source": [
    "#Ans_6\n",
    "Cosine similarity is a metric used to measure how similar the documents are irrespective of their size.\n",
    "Cosine similarity is the cosine of the angle between two n-dimensional vectors in an n-dimensional space. \n",
    "\n",
    "It is the dot product of the two vectors divided by the product of the two vectors lengths ."
   ]
  },
  {
   "cell_type": "code",
   "execution_count": null,
   "id": "88aea1e7",
   "metadata": {},
   "outputs": [],
   "source": [
    "#7. Explain the following:\n",
    "    1. What is the formula for calculating Hamming distance? Between 10001011 and 11001111, calculate the Hamming gap.\n",
    "    2. Compare the Jaccard index and similarity matching coefficient of two features with values (1,1,0,0,1,0,1,1) and (1,1,0,0, 0,1,1,1), respectively (1,0,0,1,1,0,0,1)."
   ]
  },
  {
   "cell_type": "code",
   "execution_count": null,
   "id": "763b4447",
   "metadata": {},
   "outputs": [],
   "source": [
    "#Ans_7\n",
    "Hamming distance between two vectors is the number of bits we must change to change one into the other. \n",
    "Example Find the distance between the vectors 01101010 and 11011011. \n",
    "They differ in four places, so the Hamming distance d(01101010,11011011) = 4."
   ]
  },
  {
   "cell_type": "code",
   "execution_count": null,
   "id": "64dde92d",
   "metadata": {},
   "outputs": [],
   "source": [
    "#8. State what is meant by \"high-dimensional data set\"? Could you offer a few real-life examples? What are the difficulties in using machine learning techniques on a data set with many dimensions? What can be done about it?"
   ]
  },
  {
   "cell_type": "code",
   "execution_count": null,
   "id": "40b57403",
   "metadata": {},
   "outputs": [],
   "source": [
    "#Ans_8\n",
    "High dimension is when variable numbers p is higher than the sample sizes n i.e. p>n, cases. \n",
    "High dimensional data is referred to a data of n samples with p features, where p is larger than n."
   ]
  },
  {
   "cell_type": "code",
   "execution_count": null,
   "id": "24c4eacc",
   "metadata": {},
   "outputs": [],
   "source": [
    "#9. Make a few quick notes on:\n",
    "    1. PCA is an acronym for Personal Computer Analysis.\n",
    "    2. Use of vectors\n",
    "    3. Embedded technique"
   ]
  },
  {
   "cell_type": "code",
   "execution_count": null,
   "id": "0ca95616",
   "metadata": {},
   "outputs": [],
   "source": [
    "The Principal component analysis (PCA) is a technique used for identification of a smaller number of uncorrelated variables known as principal components from a larger set of data. \n",
    "The technique is widely used to emphasize variation and capture strong patterns in a data set."
   ]
  },
  {
   "cell_type": "code",
   "execution_count": null,
   "id": "afc25070",
   "metadata": {},
   "outputs": [],
   "source": [
    "Vectors can be used to represent physical quantities. \n",
    "Most commonly in physics, vectors are used to represent displacement, velocity, and acceleration. Vectors are a combination of magnitude and direction, and are drawn as arrows"
   ]
  },
  {
   "cell_type": "code",
   "execution_count": null,
   "id": "eea7ddef",
   "metadata": {},
   "outputs": [],
   "source": [
    "In the context of machine learning, an embedding is a low-dimensional, learned continuous vector representation of discrete variables into which you can translate high-dimensional vectors. Generally, embeddings make ML models more efficient and easier to work with."
   ]
  },
  {
   "cell_type": "code",
   "execution_count": null,
   "id": "6ebd8a09",
   "metadata": {},
   "outputs": [],
   "source": [
    "#10. Make a comparison between:\n",
    "    1. Sequential backward exclusion vs. sequential forward selection\n",
    "    2. SMC vs. Jaccard coefficient"
   ]
  },
  {
   "cell_type": "code",
   "execution_count": null,
   "id": "eb8f30d6",
   "metadata": {},
   "outputs": [],
   "source": [
    "#Ans_10\n",
    "Sequential floating forward selection (SFFS) starts from the empty set. \n",
    "After each forward step, SFFS performs backward steps as long as the objective function increases. Sequential floating backward selection (SFBS) starts from the full set."
   ]
  },
  {
   "cell_type": "code",
   "execution_count": null,
   "id": "fd3ea65f",
   "metadata": {},
   "outputs": [],
   "source": [
    "The Jaccard coefficient is a measure of the percentage of overlap between sets defined as: (5.1) where W1 and W2 are two sets, in our case the 1-year windows of the ego networks. \n",
    "The Jaccard coefficient can be a value between 0 and 1, with 0 indicating no overlap and 1 complete overlap between the sets."
   ]
  },
  {
   "cell_type": "code",
   "execution_count": null,
   "id": "6548920d",
   "metadata": {},
   "outputs": [],
   "source": []
  }
 ],
 "metadata": {
  "kernelspec": {
   "display_name": "Python 3",
   "language": "python",
   "name": "python3"
  },
  "language_info": {
   "codemirror_mode": {
    "name": "ipython",
    "version": 3
   },
   "file_extension": ".py",
   "mimetype": "text/x-python",
   "name": "python",
   "nbconvert_exporter": "python",
   "pygments_lexer": "ipython3",
   "version": "3.8.8"
  }
 },
 "nbformat": 4,
 "nbformat_minor": 5
}
