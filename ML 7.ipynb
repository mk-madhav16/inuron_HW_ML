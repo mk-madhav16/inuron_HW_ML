{
 "cells": [
  {
   "cell_type": "code",
   "execution_count": null,
   "id": "021427de",
   "metadata": {},
   "outputs": [],
   "source": [
    "#1. What is the definition of a target function ? In the sense of a real-life example, express the target function. How is a target function's fitness assessed ?"
   ]
  },
  {
   "cell_type": "code",
   "execution_count": null,
   "id": "33ca2558",
   "metadata": {},
   "outputs": [],
   "source": [
    "#Ans_1\n",
    "The target function is essentially the formula that an algorithm feeds data to in order to calculate predictions.\n",
    "It analyzes the massive amounts of data related to its given problem.\n",
    "An AI derives understanding of previously unspecified rules by detecting consistencies in the data."
   ]
  },
  {
   "cell_type": "code",
   "execution_count": null,
   "id": "ceb84203",
   "metadata": {},
   "outputs": [],
   "source": [
    "#2. What are predictive models, and how do they work? What are descriptive types, and how do you use them? Examples of both types of models should be provided. Distinguish between these two forms of models ?"
   ]
  },
  {
   "cell_type": "code",
   "execution_count": null,
   "id": "5116517c",
   "metadata": {},
   "outputs": [],
   "source": [
    "#Ans_2\n",
    "Predictive modeling is a statistical technique using machine learning and data mining to predict and forecast likely future outcomes with the aid of historical and existing data.\n",
    "It works by analyzing current and historical data and projecting what it learns on a model generated to forecast likely outcomes.\n",
    "The three main types of descriptive studies are Case studies, Naturalistic observation, and Surveys."
   ]
  },
  {
   "cell_type": "code",
   "execution_count": null,
   "id": "b8857dfe",
   "metadata": {},
   "outputs": [],
   "source": [
    "#3. Describe the method of assessing a classification model's efficiency in detail. Describe the various measurement parameters ?"
   ]
  },
  {
   "cell_type": "code",
   "execution_count": null,
   "id": "15c7a573",
   "metadata": {},
   "outputs": [],
   "source": [
    "#Ans_3\n",
    "Log loss increases as the predicted probability diverge from the actual label. Log loss is a widely used metric for Kaggle competitions. \n",
    "Input on the most important basics for the measurement of the physical parameters: \n",
    "    Temperatur\n",
    "    Flow velocity \n",
    "    Humidity\n",
    "    Pressure\n",
    "    CO2 \n",
    "    Infrared. "
   ]
  },
  {
   "cell_type": "code",
   "execution_count": null,
   "id": "a05874e9",
   "metadata": {},
   "outputs": [],
   "source": [
    "#4. Describe :\n",
    "•In the sense of machine learning models, what is underfitting? What is the most common reason for underfitting ?\n",
    "•What does it mean to overfit? When is it going to happen?\n",
    "•In the sense of model fitting, explain the bias-variance trade-off."
   ]
  },
  {
   "cell_type": "code",
   "execution_count": null,
   "id": "a0bbf67d",
   "metadata": {},
   "outputs": [],
   "source": [
    "#Ans_4\n",
    "Underfitting is a scenario in data science where a data model is unable to capture the relationship between the input and output variables accurately, generating a high error rate on both the training set and unseen data."
   ]
  },
  {
   "cell_type": "code",
   "execution_count": null,
   "id": "ace559c9",
   "metadata": {},
   "outputs": [],
   "source": [
    "Overfitting happens when a model learns the detail and noise in the training data to the extent that it negatively impacts the performance of the model on new data. \n",
    "This means that the noise or random fluctuations in the training data is picked up and learned as concepts by the model."
   ]
  },
  {
   "cell_type": "code",
   "execution_count": null,
   "id": "ea38c824",
   "metadata": {},
   "outputs": [],
   "source": [
    "The bias is known as the difference between the prediction of the values by the ML model and the correct value. \n",
    "Being high in biasing gives a large error in training as well as testing data. \n",
    "By high bias, the data predicted is in a straight line format, thus not fitting accurately in the data in the data set."
   ]
  },
  {
   "cell_type": "code",
   "execution_count": null,
   "id": "460e9981",
   "metadata": {},
   "outputs": [],
   "source": [
    "#5. Is it possible to boost the efficiency of a learning model? If so, please clarify how ?"
   ]
  },
  {
   "cell_type": "code",
   "execution_count": null,
   "id": "84ea2b51",
   "metadata": {},
   "outputs": [],
   "source": [
    "#Ans_5\n",
    "Building a machine learning model is not enough to get the right predictions, as you have to check the accuracy and need to validate the same to ensure get the precise results. \n",
    "By validating the model will improve the performance of the ML model."
   ]
  },
  {
   "cell_type": "code",
   "execution_count": null,
   "id": "aebdeee8",
   "metadata": {},
   "outputs": [],
   "source": [
    "#6. How would you rate an unsupervised learning model's success? What are the most common success indicators for an unsupervised learning model ?"
   ]
  },
  {
   "cell_type": "code",
   "execution_count": null,
   "id": "92fe45f3",
   "metadata": {},
   "outputs": [],
   "source": [
    "#Ans_6\n",
    "Supervised learning, it is mostly done by measuring the performance metrics such as accuracy, precision, recall,etc."
   ]
  },
  {
   "cell_type": "code",
   "execution_count": null,
   "id": "ec1f0076",
   "metadata": {},
   "outputs": [],
   "source": [
    "#7. Is it possible to use a classification model for numerical data or a regression model for categorical data with a classification model? Explain your answer ?"
   ]
  },
  {
   "cell_type": "code",
   "execution_count": null,
   "id": "6a365b21",
   "metadata": {},
   "outputs": [],
   "source": [
    "#Ans_7\n",
    "Categorical Data is the data that generally takes a limited number of possible values. \n",
    "Also, the data in the category need not be numerical, it can be textual in nature. \n",
    "All machine learning models are some kind of mathematical model that need numbers to work with."
   ]
  },
  {
   "cell_type": "code",
   "execution_count": null,
   "id": "626dcdbc",
   "metadata": {},
   "outputs": [],
   "source": [
    "#8. Describe the predictive modeling method for numerical values. What distinguishes it from categorical predictive modeling ?"
   ]
  },
  {
   "cell_type": "code",
   "execution_count": null,
   "id": "3c33c369",
   "metadata": {},
   "outputs": [],
   "source": [
    "#Ans_8\n",
    "Predictive modeling is a statistical technique using machine learning and data mining to predict and forecast likely future outcomes with the aid of historical and existing data. \n",
    "It works by analyzing current and historical data and projecting what it learns on a model generated to forecast likely outcomes.\n",
    "\n",
    "Classification is the process of identifying the category or Class label of the new observation to which it belongs.\n",
    "Predication is the process of identifying the missing or unavailable numerical data for a new observation. "
   ]
  },
  {
   "cell_type": "code",
   "execution_count": null,
   "id": "b979eb07",
   "metadata": {},
   "outputs": [],
   "source": [
    "#9. Make quick notes on:\n",
    "•The process of holding out\n",
    "•Cross-validation by tenfold\n",
    "•Adjusting the parameters"
   ]
  },
  {
   "cell_type": "code",
   "execution_count": null,
   "id": "0be3794a",
   "metadata": {},
   "outputs": [],
   "source": [
    "#Ans_9\n",
    "The process of holding out:\n",
    "    The hold-out method for training machine learning model is the process of splitting the data in different splits and using one split for training the model and other splits for validating and testing the models. \n",
    "    The hold-out method is used for both model evaluation and model selection.\n",
    "\n",
    "Cross-validation by tenfold: \n",
    "    10-fold cross validation would perform the fitting procedure a total of ten times, with each fit being performed on a training set consisting of 90% of the total training set selected at random, with the remaining 10% used as a hold out set for validation.\n",
    "\n",
    "Adjusting the parameters:\n",
    "    Selection of parameter values, which are optimal in some desired sense.\n",
    "    The parameters are the weights and biases of the network"
   ]
  },
  {
   "cell_type": "code",
   "execution_count": null,
   "id": "9bfd53ad",
   "metadata": {},
   "outputs": [],
   "source": [
    "#10. Define the following terms:\n",
    "•Purity vs. Silhouette width\n",
    "•Boosting vs. Bagging\n",
    "•The eager learner vs. the lazy learner"
   ]
  },
  {
   "cell_type": "code",
   "execution_count": null,
   "id": "863243c2",
   "metadata": {},
   "outputs": [],
   "source": [
    "#Ans_10\n",
    "•Purity vs. Silhouette width:\n",
    "    Purity is a measure of the extent to which clusters contain a single class. \n",
    "    Its calculation can be thought of as follows: For each cluster, count the number of data points from the most common class in said cluster.\n",
    "\n",
    "    The silhouette width is also an estimate of the average distance between clusters. \n",
    "    Its value is comprised between 1 and -1 with a value of 1 indicating a very good cluster."
   ]
  },
  {
   "cell_type": "code",
   "execution_count": null,
   "id": "558c47f7",
   "metadata": {},
   "outputs": [],
   "source": [
    "•Boosting vs. Bagging:\n",
    "    Bagging is a way to decrease the variance in the prediction by generating additional data for training from dataset using combinations with repetitions to produce multi-sets of the original data.\n",
    "    \n",
    "    Boosting is an iterative technique which adjusts the weight of an observation based on the last classification."
   ]
  },
  {
   "cell_type": "code",
   "execution_count": null,
   "id": "07a21d00",
   "metadata": {},
   "outputs": [],
   "source": [
    "•The eager learner vs. the lazy learner:\n",
    "    A lazy learner delays abstracting from the data until it is asked to make a prediction.\n",
    "    \n",
    "    An eager learner abstracts away from the data during training and uses this abstraction to make predictions rather than directly compare queries with instances in the dataset."
   ]
  },
  {
   "cell_type": "code",
   "execution_count": null,
   "id": "9494298c",
   "metadata": {},
   "outputs": [],
   "source": []
  }
 ],
 "metadata": {
  "kernelspec": {
   "display_name": "Python 3",
   "language": "python",
   "name": "python3"
  },
  "language_info": {
   "codemirror_mode": {
    "name": "ipython",
    "version": 3
   },
   "file_extension": ".py",
   "mimetype": "text/x-python",
   "name": "python",
   "nbconvert_exporter": "python",
   "pygments_lexer": "ipython3",
   "version": "3.8.8"
  }
 },
 "nbformat": 4,
 "nbformat_minor": 5
}
