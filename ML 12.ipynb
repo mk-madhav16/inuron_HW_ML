{
 "cells": [
  {
   "cell_type": "code",
   "execution_count": null,
   "id": "d9c48f68",
   "metadata": {},
   "outputs": [],
   "source": [
    "#1. What is prior probability ? Give an example ?"
   ]
  },
  {
   "cell_type": "code",
   "execution_count": null,
   "id": "1fdb00de",
   "metadata": {},
   "outputs": [],
   "source": [
    "#Ans_1\n",
    "Prior probability shows the likelihood of an outcome in a given dataset.\n",
    "Example, in the mortgage case, P(Y) is the default rate on a home mortgage, which is 2%. P(Y|X) is called the conditional probability."
   ]
  },
  {
   "cell_type": "code",
   "execution_count": null,
   "id": "f688806c",
   "metadata": {},
   "outputs": [],
   "source": [
    "#2. What is posterior probability ? Give an example ?"
   ]
  },
  {
   "cell_type": "code",
   "execution_count": null,
   "id": "b25d55b8",
   "metadata": {},
   "outputs": [],
   "source": [
    "#Ans_2\n",
    "Posterior probability is a revised probability that takes into account new available information. \n",
    "Example,let there be two urns, urn A having 5 black balls and 10 red balls and urn B having 10 black balls and 5 red balls."
   ]
  },
  {
   "cell_type": "code",
   "execution_count": null,
   "id": "fa6387c4",
   "metadata": {},
   "outputs": [],
   "source": [
    "#3. What is likelihood probability ? Give an example ?"
   ]
  },
  {
   "cell_type": "code",
   "execution_count": null,
   "id": "9e9b4611",
   "metadata": {},
   "outputs": [],
   "source": [
    "#Ans_3\n",
    "Likelihood Function in Machine Learning and Data Science is the joint probability distribution(jpd) of the dataset given as a function of the parameter."
   ]
  },
  {
   "cell_type": "code",
   "execution_count": null,
   "id": "0b5cda3e",
   "metadata": {},
   "outputs": [],
   "source": [
    "#4. What is Naïve Bayes classifier ? Why is it named so ?"
   ]
  },
  {
   "cell_type": "code",
   "execution_count": null,
   "id": "c802d03a",
   "metadata": {},
   "outputs": [],
   "source": [
    "#Ans_4\n",
    "Naive Bayes is a simple and powerful algorithm for predictive modeling. \n",
    "Naive Bayes is called naive because it assumes that each input variable is independent."
   ]
  },
  {
   "cell_type": "code",
   "execution_count": null,
   "id": "33e5f5e1",
   "metadata": {},
   "outputs": [],
   "source": [
    "#5. What is optimal Bayes classifier ?"
   ]
  },
  {
   "cell_type": "code",
   "execution_count": null,
   "id": "7d5fa193",
   "metadata": {},
   "outputs": [],
   "source": [
    "#Ans_5\n",
    "Bayes Optimal Classifier is a probabilistic model that finds the most probable prediction using the training data and space of hypotheses to make a prediction for a new data instance."
   ]
  },
  {
   "cell_type": "code",
   "execution_count": null,
   "id": "f79b9228",
   "metadata": {},
   "outputs": [],
   "source": [
    "#6. Write any two features of Bayesian learning methods ?"
   ]
  },
  {
   "cell_type": "code",
   "execution_count": null,
   "id": "e0bb4e04",
   "metadata": {},
   "outputs": [],
   "source": [
    "#Ans_6\n",
    "New instances can be classified by combining the predictions of multiple hypotheses, weighted by their probabilities."
   ]
  },
  {
   "cell_type": "code",
   "execution_count": null,
   "id": "1019d560",
   "metadata": {},
   "outputs": [],
   "source": [
    "#7. Define the concept of consistent learners ?"
   ]
  },
  {
   "cell_type": "code",
   "execution_count": null,
   "id": "8a6dc51e",
   "metadata": {},
   "outputs": [],
   "source": [
    "#Ans_7\n",
    "Consistent learner must produce a hypothesis in the version space for H given D..\n",
    "It always results a hypothesis with zero error on D whenever H contains such a hypothesis."
   ]
  },
  {
   "cell_type": "code",
   "execution_count": null,
   "id": "5485448b",
   "metadata": {},
   "outputs": [],
   "source": [
    "#8. Write any two strengths of Bayes classifier ?"
   ]
  },
  {
   "cell_type": "code",
   "execution_count": null,
   "id": "3ef0aa16",
   "metadata": {},
   "outputs": [],
   "source": [
    "#Ans_8\n",
    "•This algorithm works quickly and can save a lot of time.\n",
    "•Its assumption of the independence of features holds true, it can perform better than other models and requires much less training data."
   ]
  },
  {
   "cell_type": "code",
   "execution_count": null,
   "id": "fe8fc660",
   "metadata": {},
   "outputs": [],
   "source": [
    "#9. Write any two weaknesses of Bayes classifier ?"
   ]
  },
  {
   "cell_type": "code",
   "execution_count": null,
   "id": "f2df5b21",
   "metadata": {},
   "outputs": [],
   "source": [
    "#Ans_9\n",
    "The greatest weakness of the naïve Bayes classifier is that it relies on an often-faulty assumption of equally important and independent features which results in biased posterior probabilities."
   ]
  },
  {
   "cell_type": "code",
   "execution_count": null,
   "id": "8622ea6b",
   "metadata": {},
   "outputs": [],
   "source": [
    "#10. Explain how Naïve Bayes classifier is used for:\n",
    "    1. Text classification\n",
    "    2. Spam filtering\n",
    "    3. Market sentiment analysis"
   ]
  },
  {
   "cell_type": "code",
   "execution_count": null,
   "id": "bf7ff313",
   "metadata": {},
   "outputs": [],
   "source": [
    "#Ans_10\n",
    "Text classification: \n",
    "    The Naive Bayes classifier is a simple classifier that classifies based on probabilities of events. \n",
    "    It is the applied commonly to text classification. \n",
    "    With the training set,we can train a Naive Bayes classifier which we can use to automaticall categorize a new sentence."
   ]
  },
  {
   "cell_type": "code",
   "execution_count": null,
   "id": "792a4e5c",
   "metadata": {},
   "outputs": [],
   "source": [
    "Spam filtering\n",
    "    Naive Bayes classifiers work by correlating the use of tokens.\n",
    "    Ex- spam and non-spam e-mails and then using Bayes theorem to calculate a probability that an email is or is not spam."
   ]
  },
  {
   "cell_type": "code",
   "execution_count": null,
   "id": "bc853c91",
   "metadata": {},
   "outputs": [],
   "source": [
    "Market sentiment analysis:\n",
    "    It is a field dedicated to extracting subjective emotions and feelings from text. \n",
    "    One common use of sentiment analysis is to figure out if a text expresses negative or positive feelings. "
   ]
  },
  {
   "cell_type": "code",
   "execution_count": null,
   "id": "590552b4",
   "metadata": {},
   "outputs": [],
   "source": []
  }
 ],
 "metadata": {
  "kernelspec": {
   "display_name": "Python 3",
   "language": "python",
   "name": "python3"
  },
  "language_info": {
   "codemirror_mode": {
    "name": "ipython",
    "version": 3
   },
   "file_extension": ".py",
   "mimetype": "text/x-python",
   "name": "python",
   "nbconvert_exporter": "python",
   "pygments_lexer": "ipython3",
   "version": "3.8.8"
  }
 },
 "nbformat": 4,
 "nbformat_minor": 5
}
