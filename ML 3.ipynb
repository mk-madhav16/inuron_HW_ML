{
 "cells": [
  {
   "cell_type": "code",
   "execution_count": null,
   "id": "656cecc2",
   "metadata": {},
   "outputs": [],
   "source": [
    "#1.Explain the term machine learning, and how does it work? Explain two machine learning applications in the business world. What are some of the ethical concerns that machine learning applications could raise ?"
   ]
  },
  {
   "cell_type": "code",
   "execution_count": null,
   "id": "505d2845",
   "metadata": {},
   "outputs": [],
   "source": [
    "#Ans_1\n",
    "Learning and improving upon past experiences. \n",
    "It works by exploring data and identifying patterns, and involves minimal human intervention.\n",
    "\n",
    "Ethical concerns that machine learning applications could raise are:-\n",
    "    Privacy \n",
    "    surveillance\n",
    "    bias\n",
    "    discrimination"
   ]
  },
  {
   "cell_type": "code",
   "execution_count": null,
   "id": "a0a44fa5",
   "metadata": {},
   "outputs": [],
   "source": [
    "#2. Describe the process of human learning ?\n",
    "Under the supervision of experts\n",
    "With the assistance of experts in an indirect manner\n",
    "Self-education"
   ]
  },
  {
   "cell_type": "code",
   "execution_count": null,
   "id": "df40f751",
   "metadata": {},
   "outputs": [],
   "source": [
    "#Ans_2\n",
    "Under the supervision of experts: \n",
    "    Human-guided machine learning is a process whereby subject matter experts accelerate the learning process by teaching the technology in real-time. \n",
    "    For example, if the machine learning model comes across a piece of data it is uncertain about, a human can be asked to weigh in and give feedback. \n",
    "    The model then learns from this input, and uses it to make a more accurate prediction the next time. "
   ]
  },
  {
   "cell_type": "code",
   "execution_count": null,
   "id": "5f92f521",
   "metadata": {},
   "outputs": [],
   "source": [
    "With the assistance of experts in an indirect manner: \n",
    "    Well The process of an algorithm learning from the training dataset can be thought of as a teacher supervising the learning process. \n",
    "    We know the correct answers, the algorithm iteratively makes predictions on the training data and is corrected by the teacher."
   ]
  },
  {
   "cell_type": "code",
   "execution_count": null,
   "id": "368c3178",
   "metadata": {},
   "outputs": [],
   "source": [
    "Self education: \n",
    "    Ability to recognize patterns, learn from data, and become more intelligent over time.\n",
    "    Machine Learning: AI systems with ability to automatically learn and improve from experience without being explicitly programmed via training Hebbian Learning."
   ]
  },
  {
   "cell_type": "code",
   "execution_count": null,
   "id": "7e78644e",
   "metadata": {},
   "outputs": [],
   "source": [
    "#3. Provide a few examples of various types of machine learning ?"
   ]
  },
  {
   "cell_type": "code",
   "execution_count": null,
   "id": "c1893452",
   "metadata": {},
   "outputs": [],
   "source": [
    "#Ans_3\n",
    "Unsupervised Learning : Fraud detection, Malware detection, Anomaly detection,\n",
    "Reinforcement Learning : Applications in self-driving cars, Industry automation"
   ]
  },
  {
   "cell_type": "code",
   "execution_count": null,
   "id": "7e93090d",
   "metadata": {},
   "outputs": [],
   "source": [
    "#4. Examine the various forms of machine learning ?"
   ]
  },
  {
   "cell_type": "code",
   "execution_count": null,
   "id": "2177391c",
   "metadata": {},
   "outputs": [],
   "source": [
    "#Ans_4\n",
    "These are three types of Machine Learning Techniques:\n",
    "•Supervised Learning\n",
    "•Unsupervised Learning\n",
    "•Reinforcement Learning"
   ]
  },
  {
   "cell_type": "code",
   "execution_count": null,
   "id": "90430f7b",
   "metadata": {},
   "outputs": [],
   "source": [
    "#5. Can you explain what a well-posed learning problem is? Explain the main characteristics that must be present to identify a learning problem properly ?"
   ]
  },
  {
   "cell_type": "code",
   "execution_count": null,
   "id": "528ceba1",
   "metadata": {},
   "outputs": [],
   "source": [
    "#Ans_5\n",
    "Well Posed Learning Problem – A computer program is said to learn from experience E in context to some task T and \n",
    "                     Some performance measure P, if its performance on T, as was measured by P,upgrades with experience E."
   ]
  },
  {
   "cell_type": "code",
   "execution_count": null,
   "id": "a3eb8ca7",
   "metadata": {},
   "outputs": [],
   "source": [
    "#6. Is machine learning capable of solving all problems? Give a detailed explanation of your answer ?"
   ]
  },
  {
   "cell_type": "code",
   "execution_count": null,
   "id": "26b329a0",
   "metadata": {},
   "outputs": [],
   "source": [
    "#Ans_6\n",
    "Deterministic Problem: \n",
    "    Machine learning is stochastic, not deterministic..\n",
    "Lack of Data: \n",
    "    Many machine learning algorithms require large amounts of data before they begin to give useful results."
   ]
  },
  {
   "cell_type": "code",
   "execution_count": null,
   "id": "a1cf9d00",
   "metadata": {},
   "outputs": [],
   "source": [
    "#7. What are the various methods and technologies for solving machine learning problems? Any two of them should be defined in detail ?"
   ]
  },
  {
   "cell_type": "code",
   "execution_count": null,
   "id": "855cb038",
   "metadata": {},
   "outputs": [],
   "source": [
    "#Ans_7\n",
    "The methords use are Regression, Classification, Clustering, Dimensionality Reductio, Ensemble Methods"
   ]
  },
  {
   "cell_type": "code",
   "execution_count": null,
   "id": "f3811ddc",
   "metadata": {},
   "outputs": [],
   "source": [
    "#8. Can you explain the various forms of supervised learning? Explain each one with an example application ?"
   ]
  },
  {
   "cell_type": "code",
   "execution_count": null,
   "id": "05788275",
   "metadata": {},
   "outputs": [],
   "source": [
    "#Ans_8\n",
    "The various forms of supervised learning are:-\n",
    "Regression:\n",
    "    In regression, a single output value is produced using training data.For example, regression can help predict the price of a house based on its locality, size, etc.\n",
    "Classification: \n",
    "    It involves grouping the data into classes.eg. If you are thinking of extending credit to a person, you can use classification to determine whether or not a person would be a loan defaulter.\n",
    "Naive Bayesian Model: \n",
    "    The Bayesian model of classification is used for large finite datasets. It is a method of assigning Cass labels using a direct acyclic graph.\n",
    "Decision Trees: \n",
    "    A decision tree is a flowchart-like model that contains conditional control statements, comprising decisions and their probable consequences"
   ]
  },
  {
   "cell_type": "code",
   "execution_count": null,
   "id": "7199831e",
   "metadata": {},
   "outputs": [],
   "source": [
    "#9. What is the difference between supervised and unsupervised learning? With a sample application in each region, explain the differences ?"
   ]
  },
  {
   "cell_type": "code",
   "execution_count": null,
   "id": "e238114e",
   "metadata": {},
   "outputs": [],
   "source": [
    "#Ans_9\n",
    "Supervised Learning : Classification and Regression.\n",
    "Unsuperised Learning : Clustering."
   ]
  },
  {
   "cell_type": "code",
   "execution_count": null,
   "id": "e0449666",
   "metadata": {},
   "outputs": [],
   "source": [
    "#11. Make a comparison between:-\n",
    "•Generalization and abstraction\n",
    "•Learning that is guided and unsupervised\n",
    "•Regression and classification"
   ]
  },
  {
   "cell_type": "code",
   "execution_count": null,
   "id": "7586415b",
   "metadata": {},
   "outputs": [],
   "source": [
    "#Ans_11\n",
    "Generalization and abstraction: \n",
    "    Abstraction is the process of removing details of objects. \n",
    "    Generalization, then, is the formulation of general concepts from specific instances by abstracting common properties."
   ]
  },
  {
   "cell_type": "code",
   "execution_count": null,
   "id": "5b69627c",
   "metadata": {},
   "outputs": [],
   "source": [
    "Learning that is guided and Unsupervised:\n",
    "    Supervised learning is the method that trains machines to use data that is well classified and labeled. \n",
    "    Unsupervised learning is the method that trains machines to use data that is neither classified nor labeled."
   ]
  },
  {
   "cell_type": "code",
   "execution_count": null,
   "id": "e8afa760",
   "metadata": {},
   "outputs": [],
   "source": []
  }
 ],
 "metadata": {
  "kernelspec": {
   "display_name": "Python 3",
   "language": "python",
   "name": "python3"
  },
  "language_info": {
   "codemirror_mode": {
    "name": "ipython",
    "version": 3
   },
   "file_extension": ".py",
   "mimetype": "text/x-python",
   "name": "python",
   "nbconvert_exporter": "python",
   "pygments_lexer": "ipython3",
   "version": "3.8.8"
  }
 },
 "nbformat": 4,
 "nbformat_minor": 5
}
