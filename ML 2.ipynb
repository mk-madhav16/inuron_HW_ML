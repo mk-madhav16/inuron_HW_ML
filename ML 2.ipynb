{
 "cells": [
  {
   "cell_type": "code",
   "execution_count": null,
   "id": "0f907795",
   "metadata": {},
   "outputs": [],
   "source": [
    "#1. What is the concept of human learning? Please give two examples ?"
   ]
  },
  {
   "cell_type": "code",
   "execution_count": null,
   "id": "300f15ee",
   "metadata": {},
   "outputs": [],
   "source": [
    "#Ans_1\n",
    "Learning which need our cognitive abilitis like thinking, reasoning , etc. \\\n",
    "Ex-\n",
    "•Learning through consequences – Operant Conditioning\n",
    "•Learning through observation – Modeling/Observational Learning"
   ]
  },
  {
   "cell_type": "code",
   "execution_count": null,
   "id": "deb39f57",
   "metadata": {},
   "outputs": [],
   "source": [
    "#2. What different forms of human learning are there? Are there any machine learning equivalents ?"
   ]
  },
  {
   "cell_type": "code",
   "execution_count": null,
   "id": "16b96abd",
   "metadata": {},
   "outputs": [],
   "source": [
    "#Ans_2\n",
    "Human learning - classical conditioning, operant conditioning, and observational learning.\n",
    "Machine learning - supervised learning, unsupervised learning, and reinforcement learning."
   ]
  },
  {
   "cell_type": "code",
   "execution_count": null,
   "id": "1e9d86de",
   "metadata": {},
   "outputs": [],
   "source": [
    "#3. What is machine learning, and how does it work? What are the key responsibilities of machine learning ?"
   ]
  },
  {
   "cell_type": "code",
   "execution_count": null,
   "id": "3e0296c0",
   "metadata": {},
   "outputs": [],
   "source": [
    "#Ans_3\n",
    "•Machine learning is a field of inquiry devoted to understanding and building methods that learn.\n",
    "•Methods that leverage data to improve performance on some set of tasks. \n",
    "•It is seen as a part of artificial intelligence."
   ]
  },
  {
   "cell_type": "code",
   "execution_count": null,
   "id": "a08f47c7",
   "metadata": {},
   "outputs": [],
   "source": [
    "#4. Define the terms \"penalty\" and \"reward\" in the context of reinforcement learning ?"
   ]
  },
  {
   "cell_type": "code",
   "execution_count": null,
   "id": "f83356f5",
   "metadata": {},
   "outputs": [],
   "source": [
    "#Ans_4\n",
    "The agent receives rewards by performing correctly and penalties for performing incorrectly. \n",
    "The agent learns without intervention from a human by maximizing its reward and minimizing its penalty"
   ]
  },
  {
   "cell_type": "code",
   "execution_count": null,
   "id": "fff7cd30",
   "metadata": {},
   "outputs": [],
   "source": [
    "#5. Explain the term \"learning as a search\" ?"
   ]
  },
  {
   "cell_type": "code",
   "execution_count": null,
   "id": "99f649c5",
   "metadata": {},
   "outputs": [],
   "source": [
    "#Ans_5\n",
    "Learning can be viewed as a search through the space of all sentences in a concept description language for a sentence that best describes the data."
   ]
  },
  {
   "cell_type": "code",
   "execution_count": null,
   "id": "06cb7c95",
   "metadata": {},
   "outputs": [],
   "source": [
    "#6. What are the various goals of machine learning? What is the relationship between these and human learning ?"
   ]
  },
  {
   "cell_type": "code",
   "execution_count": null,
   "id": "2072b173",
   "metadata": {},
   "outputs": [],
   "source": [
    "#Ans_6\n",
    "•The Goal of machine learning, is to achieve a through understanding about the nature of learning process (both human learning and other forms of learning). \n",
    "•To implant the learning capability in computer systems."
   ]
  },
  {
   "cell_type": "code",
   "execution_count": null,
   "id": "5b60b680",
   "metadata": {},
   "outputs": [],
   "source": [
    "#7. Illustrate the various elements of machine learning using a real-life illustration ?"
   ]
  },
  {
   "cell_type": "code",
   "execution_count": null,
   "id": "5f3278bc",
   "metadata": {},
   "outputs": [],
   "source": [
    "#Ans_7\n",
    "Model\n",
    "Loss Function\n",
    "Learning Algorithm\n",
    "Evaluation"
   ]
  },
  {
   "cell_type": "code",
   "execution_count": null,
   "id": "f7bc55a2",
   "metadata": {},
   "outputs": [],
   "source": [
    "#8. Provide an example of the abstraction method ?"
   ]
  },
  {
   "cell_type": "code",
   "execution_count": null,
   "id": "c2495862",
   "metadata": {},
   "outputs": [],
   "source": [
    "#Ans_8\n",
    "When we are driving a car, we are only concerned about driving the car like start/stop the car, accelerate/ break, etc."
   ]
  },
  {
   "cell_type": "code",
   "execution_count": null,
   "id": "71f3de9c",
   "metadata": {},
   "outputs": [],
   "source": [
    "#9. What is the concept of generalization? What function does it play in the machine learning process ?"
   ]
  },
  {
   "cell_type": "code",
   "execution_count": null,
   "id": "89431195",
   "metadata": {},
   "outputs": [],
   "source": [
    "#Ans_9\n",
    "Generalization refers to your models ability to adapt properly to new, previously unseen data, drawn from the same distribution as the one used to create the model."
   ]
  },
  {
   "cell_type": "code",
   "execution_count": null,
   "id": "43212bc6",
   "metadata": {},
   "outputs": [],
   "source": [
    "#10. What is classification, exactly? What are the main distinctions between classification and regression ?"
   ]
  },
  {
   "cell_type": "code",
   "execution_count": null,
   "id": "c1ec3cb5",
   "metadata": {},
   "outputs": [],
   "source": [
    "#Ans_10\n",
    "Classification is the task of predicting a discrete Class label. \n",
    "Regression is the task of predicting a continuous quantity."
   ]
  },
  {
   "cell_type": "code",
   "execution_count": null,
   "id": "a9400377",
   "metadata": {},
   "outputs": [],
   "source": [
    "#11. What is regression, and how does it work? Give an example of a real-world problem that was solved using regression ?"
   ]
  },
  {
   "cell_type": "code",
   "execution_count": null,
   "id": "922ec39e",
   "metadata": {},
   "outputs": [],
   "source": [
    "#Ans_11\n",
    "Regression is a Supervised Machine Learning technique which is used to predict continuous values. \n",
    "The ultimate goal of a regression algorithm is to plot a best-fit line or a curve between the data\n",
    "\n",
    "It works on :-\n",
    "    Varience\n",
    "    Bias\n",
    "    Error"
   ]
  },
  {
   "cell_type": "code",
   "execution_count": null,
   "id": "3e39ecec",
   "metadata": {},
   "outputs": [],
   "source": [
    "#12. Describe the clustering mechanism in detail ?"
   ]
  },
  {
   "cell_type": "code",
   "execution_count": null,
   "id": "a1d29a76",
   "metadata": {},
   "outputs": [],
   "source": [
    "#Ans_12\n",
    "The aim is to segregate groups with similar traits and assign them into clusters."
   ]
  },
  {
   "cell_type": "code",
   "execution_count": null,
   "id": "cbc0e604",
   "metadata": {},
   "outputs": [],
   "source": [
    "#13. Make brief observations on two of the following topics ?\n",
    "•Machine learning algorithms are used\n",
    "•Studying under supervision\n",
    "•Studying without supervision\n",
    "•Reinforcement learning is a form of learning based on positive reinforcement."
   ]
  },
  {
   "cell_type": "code",
   "execution_count": null,
   "id": "c2a02170",
   "metadata": {},
   "outputs": [],
   "source": [
    "#Ans_13\n",
    "Machine learning algorithms are used: \n",
    "Machine Learning uses programmed algorithms that receive and analyse input data to predict output values within an acceptable range.\n",
    "As new data is fed to these algorithms, they learn and optimise their operations to improve performance, developing intelligence over time."
   ]
  },
  {
   "cell_type": "code",
   "execution_count": null,
   "id": "6a1edf8c",
   "metadata": {},
   "outputs": [],
   "source": [
    "Studying Under Supervision:  \n",
    "Supervised is an algorithm learns from a training dataset.\n",
    "We know the correct answers or desired output, the algorithm makes predictions using the given dataset and is corrected by the “supervisor”."
   ]
  }
 ],
 "metadata": {
  "kernelspec": {
   "display_name": "Python 3",
   "language": "python",
   "name": "python3"
  },
  "language_info": {
   "codemirror_mode": {
    "name": "ipython",
    "version": 3
   },
   "file_extension": ".py",
   "mimetype": "text/x-python",
   "name": "python",
   "nbconvert_exporter": "python",
   "pygments_lexer": "ipython3",
   "version": "3.8.8"
  }
 },
 "nbformat": 4,
 "nbformat_minor": 5
}
