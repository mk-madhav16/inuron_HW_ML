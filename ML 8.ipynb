{
 "cells": [
  {
   "cell_type": "code",
   "execution_count": null,
   "id": "141e9e53",
   "metadata": {},
   "outputs": [],
   "source": [
    "#1. What exactly is a feature? Give an example to illustrate your point ?"
   ]
  },
  {
   "cell_type": "code",
   "execution_count": null,
   "id": "d3d7c27f",
   "metadata": {},
   "outputs": [],
   "source": [
    "#Ans_1\n",
    "Features are the basic building blocks of datasets. \n",
    "The quality of the features in your dataset has a major impact on the quality of the insights you will gain when you use that dataset for machine learning."
   ]
  },
  {
   "cell_type": "code",
   "execution_count": null,
   "id": "4c4a0f99",
   "metadata": {},
   "outputs": [],
   "source": [
    "#2. What are the various circumstances in which feature construction is required ?"
   ]
  },
  {
   "cell_type": "code",
   "execution_count": null,
   "id": "16cf0697",
   "metadata": {},
   "outputs": [],
   "source": [
    "#Ans_2\n",
    "The features in your data will directly influence the predictive models you use and the results you can achieve. \n",
    "Your results are dependent on many inter-dependent properties. \n",
    "You need great features that describe the structures inherent in your data. Better features means flexibility."
   ]
  },
  {
   "cell_type": "code",
   "execution_count": null,
   "id": "23a3d5c9",
   "metadata": {},
   "outputs": [],
   "source": [
    "#3. Describe how nominal variables are encoded ?"
   ]
  },
  {
   "cell_type": "code",
   "execution_count": null,
   "id": "15d68884",
   "metadata": {},
   "outputs": [],
   "source": [
    "#Ans_3\n",
    "Nominal data is made of discrete values with no numerical relationship between the different categories — mean and median are meaningless. "
   ]
  },
  {
   "cell_type": "code",
   "execution_count": null,
   "id": "7140a9cd",
   "metadata": {},
   "outputs": [],
   "source": [
    "#4. Describe how numeric features are converted to categorical features ?"
   ]
  },
  {
   "cell_type": "code",
   "execution_count": null,
   "id": "ef93dcc2",
   "metadata": {},
   "outputs": [],
   "source": [
    "#Ans_4\n",
    "Converting categorical features into numeric features using domain knowledge. \n",
    "For example, we are given a list of countries and say we know the distance to these countries from India then we can replace it with distance from India. \n",
    "Therefore, every country can be represented as its distance from India."
   ]
  },
  {
   "cell_type": "code",
   "execution_count": null,
   "id": "105a5254",
   "metadata": {},
   "outputs": [],
   "source": [
    "#5. Describe the feature selection wrapper approach. State the advantages and disadvantages of this approach ?"
   ]
  },
  {
   "cell_type": "code",
   "execution_count": null,
   "id": "c1e66606",
   "metadata": {},
   "outputs": [],
   "source": [
    "#Ans_5\n",
    "Wrapper methods measure the “usefulness” of features based on the classifier performance. \n",
    "In contrast, the filter methods pick up the intrinsic properties of the features."
   ]
  },
  {
   "cell_type": "code",
   "execution_count": null,
   "id": "e74b641b",
   "metadata": {},
   "outputs": [],
   "source": [
    "#6. When is a feature considered irrelevant? What can be said to quantify it ?"
   ]
  },
  {
   "cell_type": "code",
   "execution_count": null,
   "id": "c013fcec",
   "metadata": {},
   "outputs": [],
   "source": [
    "#Ans_6\n",
    "Irrelevant features can never contribute to prediction accuracy, by definition. Also to quantify it we need to first check the list of features. \n",
    "There are three types of feature selection:\n",
    "    Hamming Distance.\n",
    "    Euclidean Distance\n",
    "    Manhattan Distance."
   ]
  },
  {
   "cell_type": "code",
   "execution_count": null,
   "id": "00ed9c89",
   "metadata": {},
   "outputs": [],
   "source": [
    "#9. State difference between Euclidean and Manhattan distances ?"
   ]
  },
  {
   "cell_type": "code",
   "execution_count": null,
   "id": "b6e177ed",
   "metadata": {},
   "outputs": [],
   "source": [
    "#Ans_9\n",
    "Euclidean distance is extensively applied in analysis of convolutional codes and Trellis codes.\n",
    "\n",
    "Manhattan distance is frequently encountered in the analysis of block codes."
   ]
  },
  {
   "cell_type": "code",
   "execution_count": null,
   "id": "9257b8ba",
   "metadata": {},
   "outputs": [],
   "source": [
    "#10. Distinguish between feature transformation and feature selection ?"
   ]
  },
  {
   "cell_type": "code",
   "execution_count": null,
   "id": "0cdf8cfa",
   "metadata": {},
   "outputs": [],
   "source": [
    "#Ans_10\n",
    "The key difference between feature selection and extraction is that feature selection keeps a subset of the original features while feature extraction creates brand new ones."
   ]
  },
  {
   "cell_type": "code",
   "execution_count": null,
   "id": "e985e90a",
   "metadata": {},
   "outputs": [],
   "source": []
  }
 ],
 "metadata": {
  "kernelspec": {
   "display_name": "Python 3",
   "language": "python",
   "name": "python3"
  },
  "language_info": {
   "codemirror_mode": {
    "name": "ipython",
    "version": 3
   },
   "file_extension": ".py",
   "mimetype": "text/x-python",
   "name": "python",
   "nbconvert_exporter": "python",
   "pygments_lexer": "ipython3",
   "version": "3.8.8"
  }
 },
 "nbformat": 4,
 "nbformat_minor": 5
}
