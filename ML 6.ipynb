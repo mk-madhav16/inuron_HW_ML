{
 "cells": [
  {
   "cell_type": "code",
   "execution_count": null,
   "id": "41947ab3",
   "metadata": {},
   "outputs": [],
   "source": [
    "#1. In the sense of machine learning, what is a model? What is the best way to train a model?"
   ]
  },
  {
   "cell_type": "code",
   "execution_count": null,
   "id": "10746a7e",
   "metadata": {},
   "outputs": [],
   "source": [
    "#Ans_1\n",
    "A Machine Learning Model is a file that has been trained to recognize certain types of patterns. \n",
    "You train a model over a set of data, providing it an algorithm that it can use to reason over and learn from those data.\n",
    "\n",
    "Model Naming — \n",
    "Give Your Model a Name, Let’s start with giving your model a name, describe your model and attach tags to your model. \n",
    "Tags are to make your model searchable.\n",
    "Data Type Selection — \n",
    "Choose data type(Images/Text/CSV), It’s time to tell us about the type of data you want to train your model. \n",
    "ML Models support Images, Text and *.CSV (categorical data) data types."
   ]
  },
  {
   "cell_type": "code",
   "execution_count": null,
   "id": "9b9aaafe",
   "metadata": {},
   "outputs": [],
   "source": [
    "#2. In the sense of machine learning, explain the \"No Free Lunch\" theorem."
   ]
  },
  {
   "cell_type": "code",
   "execution_count": null,
   "id": "97c07648",
   "metadata": {},
   "outputs": [],
   "source": [
    "#Ans_2\n",
    "\"No Free Lunch\" theorem means we cant rely on one model to be best of all models.\n",
    "We have to understand data properly and make use of ML understanding and make use of models to find best out of it."
   ]
  },
  {
   "cell_type": "code",
   "execution_count": null,
   "id": "262aeeae",
   "metadata": {},
   "outputs": [],
   "source": [
    "#3. Describe the K-fold cross-validation mechanism in detail."
   ]
  },
  {
   "cell_type": "code",
   "execution_count": null,
   "id": "e0cdb5d6",
   "metadata": {},
   "outputs": [],
   "source": [
    "#Ans_3\n",
    "K-fold cross validation, data D is subset into k subsets randomly.\n",
    "Let us assume S1...Sk are the subsets where Sk is the kth randomly split subset of data D. In the first iteration, D-S1 is used for training and S1 for testing the model. \n",
    "When the model has been trained and tested, evaluation can be done, score is noted elsewhere and the trained model is discarded."
   ]
  },
  {
   "cell_type": "code",
   "execution_count": null,
   "id": "9680468c",
   "metadata": {},
   "outputs": [],
   "source": [
    "#4. Describe the bootstrap sampling method. What is the aim of it?"
   ]
  },
  {
   "cell_type": "code",
   "execution_count": null,
   "id": "64be515c",
   "metadata": {},
   "outputs": [],
   "source": [
    "#Ans_4\n",
    "It allows a given observation to be included in a given small sample more than once. \n",
    "This approach to sampling is called sampling with replacement."
   ]
  },
  {
   "cell_type": "code",
   "execution_count": null,
   "id": "311dd58f",
   "metadata": {},
   "outputs": [],
   "source": [
    "#5. What is the significance of calculating the Kappa value for a classification model? Demonstrate how to measure the Kappa value of a classification model using a sample collection of results."
   ]
  },
  {
   "cell_type": "code",
   "execution_count": null,
   "id": "b82d19b9",
   "metadata": {},
   "outputs": [],
   "source": [
    "#Ans_5\n",
    "Kappa value or Cohens Kappa coefficient is an evaluation metric for classification models. \n",
    "Its significance as an evaluation metric is that it can be used to evaluate multi Class classification models \n",
    "IT also works on models trained on imbalanced datasets(scores like accuracy scores fail for imbalanced datasets."
   ]
  },
  {
   "cell_type": "code",
   "execution_count": null,
   "id": "e2bad53f",
   "metadata": {},
   "outputs": [],
   "source": [
    "#6. Describe the model ensemble method. In machine learning, what part does it play?"
   ]
  },
  {
   "cell_type": "code",
   "execution_count": null,
   "id": "f1134e24",
   "metadata": {},
   "outputs": [],
   "source": [
    "#Ans_6\n",
    "Ensemble methods or ensemble machine learning models are models where more than one models are being used spontaneously to produce better results than individually trained models."
   ]
  },
  {
   "cell_type": "code",
   "execution_count": null,
   "id": "ccb89e5a",
   "metadata": {},
   "outputs": [],
   "source": [
    "#7. What is a descriptive model's main purpose? Give examples of real-world problems that descriptive models were used to solve."
   ]
  },
  {
   "cell_type": "code",
   "execution_count": null,
   "id": "ef12de07",
   "metadata": {},
   "outputs": [],
   "source": [
    "#Ans_7\n",
    "In a descriptive model, no single feature is more important than any other. \n",
    "In fact, because there is no target to learn, the process of training a descriptive model is called unsupervised learning.\n",
    "It is used in customer classification as real life problem ."
   ]
  },
  {
   "cell_type": "code",
   "execution_count": null,
   "id": "b0a6e2b5",
   "metadata": {},
   "outputs": [],
   "source": [
    "#8. Describe how to evaluate a linear regression model."
   ]
  },
  {
   "cell_type": "code",
   "execution_count": null,
   "id": "c5e4283d",
   "metadata": {},
   "outputs": [],
   "source": [
    "#Ans_8\n",
    "Techniques for linear regression model are:\n",
    "\n",
    "•Mean Square Error(MSE)/Root Mean Square Error(RMSE)\n",
    "•Mean Absolute Error(MAE)"
   ]
  },
  {
   "cell_type": "code",
   "execution_count": null,
   "id": "0c927671",
   "metadata": {},
   "outputs": [],
   "source": [
    "#10. Make quick notes on:\n",
    "•LOOCV.\n",
    "•F-measurement\n",
    "•The width of the silhouette"
   ]
  },
  {
   "cell_type": "code",
   "execution_count": null,
   "id": "60900439",
   "metadata": {},
   "outputs": [],
   "source": [
    "#Ans_10\n",
    "•LOOCV\n",
    "The Quick notes on: LOOCV or Leave One Out Cross Validation is a form of K-fold cross validation where only one observation is left out for validation purpose while the rest of the data is used for model training each iteration. \n",
    "It is computationally taxing and should only be used for data with low dimensionality."
   ]
  },
  {
   "cell_type": "code",
   "execution_count": null,
   "id": "f0181fa3",
   "metadata": {},
   "outputs": [],
   "source": [
    "•F-measurement\n",
    "Harmonic mean of Precision score and recall score is called F-measurement or F-score. \n",
    "It is formulated as 2 (pr re)/pr +re where pr is precision score and re is recall score."
   ]
  },
  {
   "cell_type": "code",
   "execution_count": null,
   "id": "a8362439",
   "metadata": {},
   "outputs": [],
   "source": [
    "•The width of the silhouette\n",
    "Estimate of average inter cluster distance to give efficacy/performance of cluster algorithms is called width of the silhouette.\n",
    "It can also be defined as how identical/similar a data point 'x' is to the data points inside the cluster to which x is assigned. \n",
    "Its value ranges from -1 to 1 where 1 means good and -1 means bad."
   ]
  },
  {
   "cell_type": "code",
   "execution_count": null,
   "id": "0057071b",
   "metadata": {},
   "outputs": [],
   "source": []
  }
 ],
 "metadata": {
  "kernelspec": {
   "display_name": "Python 3",
   "language": "python",
   "name": "python3"
  },
  "language_info": {
   "codemirror_mode": {
    "name": "ipython",
    "version": 3
   },
   "file_extension": ".py",
   "mimetype": "text/x-python",
   "name": "python",
   "nbconvert_exporter": "python",
   "pygments_lexer": "ipython3",
   "version": "3.8.8"
  }
 },
 "nbformat": 4,
 "nbformat_minor": 5
}
